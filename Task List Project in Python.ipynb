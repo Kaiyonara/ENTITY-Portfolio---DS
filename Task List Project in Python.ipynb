{
 "cells": [
  {
   "cell_type": "code",
   "execution_count": 5,
   "id": "a54548a2-7aa7-4935-afb0-cbaac6cd7c64",
   "metadata": {},
   "outputs": [
    {
     "name": "stdin",
     "output_type": "stream",
     "text": [
      "\n",
      "====================\n",
      "1. List the tasks\n",
      "2. Add a task\n",
      "3. Remove a task\n",
      "4. Mark task complete\n",
      "5. Quit\n",
      "\n",
      "What would you like to do?  1\n"
     ]
    },
    {
     "name": "stdout",
     "output_type": "stream",
     "text": [
      "0: Write email to Jan (Completed: True)\n",
      "1: Sweep front porch (Completed: True)\n",
      "2: Call mom (Completed: False)\n"
     ]
    },
    {
     "name": "stdin",
     "output_type": "stream",
     "text": [
      "\n",
      "====================\n",
      "1. List the tasks\n",
      "2. Add a task\n",
      "3. Remove a task\n",
      "4. Mark task complete\n",
      "5. Quit\n",
      "\n",
      "What would you like to do?  3\n"
     ]
    },
    {
     "name": "stdout",
     "output_type": "stream",
     "text": [
      "0: Write email to Jan (Completed: True)\n",
      "1: Sweep front porch (Completed: True)\n",
      "2: Call mom (Completed: False)\n"
     ]
    },
    {
     "name": "stdin",
     "output_type": "stream",
     "text": [
      "Please enter the number of the task to be removed. 2\n",
      "\n",
      "====================\n",
      "1. List the tasks\n",
      "2. Add a task\n",
      "3. Remove a task\n",
      "4. Mark task complete\n",
      "5. Quit\n",
      "\n",
      "What would you like to do?  1\n"
     ]
    },
    {
     "name": "stdout",
     "output_type": "stream",
     "text": [
      "0: Write email to Jan (Completed: True)\n",
      "1: Sweep front porch (Completed: True)\n"
     ]
    },
    {
     "name": "stdin",
     "output_type": "stream",
     "text": [
      "\n",
      "====================\n",
      "1. List the tasks\n",
      "2. Add a task\n",
      "3. Remove a task\n",
      "4. Mark task complete\n",
      "5. Quit\n",
      "\n",
      "What would you like to do?  4\n"
     ]
    },
    {
     "name": "stdout",
     "output_type": "stream",
     "text": [
      "0: Write email to Jan (Completed: True)\n",
      "1: Sweep front porch (Completed: True)\n"
     ]
    },
    {
     "name": "stdin",
     "output_type": "stream",
     "text": [
      "Please enter the number of the task completed: 0\n",
      "\n",
      "====================\n",
      "1. List the tasks\n",
      "2. Add a task\n",
      "3. Remove a task\n",
      "4. Mark task complete\n",
      "5. Quit\n",
      "\n",
      "What would you like to do?  1\n"
     ]
    },
    {
     "name": "stdout",
     "output_type": "stream",
     "text": [
      "0: Write email to Jan (Completed: True)\n",
      "1: Sweep front porch (Completed: True)\n"
     ]
    },
    {
     "name": "stdin",
     "output_type": "stream",
     "text": [
      "\n",
      "====================\n",
      "1. List the tasks\n",
      "2. Add a task\n",
      "3. Remove a task\n",
      "4. Mark task complete\n",
      "5. Quit\n",
      "\n",
      "What would you like to do?  Code Python\n"
     ]
    },
    {
     "name": "stdout",
     "output_type": "stream",
     "text": [
      "Please choose a valid option.\n"
     ]
    },
    {
     "name": "stdin",
     "output_type": "stream",
     "text": [
      "\n",
      "====================\n",
      "1. List the tasks\n",
      "2. Add a task\n",
      "3. Remove a task\n",
      "4. Mark task complete\n",
      "5. Quit\n",
      "\n",
      "What would you like to do?  1\n"
     ]
    },
    {
     "name": "stdout",
     "output_type": "stream",
     "text": [
      "0: Write email to Jan (Completed: True)\n",
      "1: Sweep front porch (Completed: True)\n"
     ]
    },
    {
     "name": "stdin",
     "output_type": "stream",
     "text": [
      "\n",
      "====================\n",
      "1. List the tasks\n",
      "2. Add a task\n",
      "3. Remove a task\n",
      "4. Mark task complete\n",
      "5. Quit\n",
      "\n",
      "What would you like to do?  2\n",
      "Please add a task:  Code Python\n",
      "\n",
      "====================\n",
      "1. List the tasks\n",
      "2. Add a task\n",
      "3. Remove a task\n",
      "4. Mark task complete\n",
      "5. Quit\n",
      "\n",
      "What would you like to do?  1\n"
     ]
    },
    {
     "name": "stdout",
     "output_type": "stream",
     "text": [
      "0: Write email to Jan (Completed: True)\n",
      "1: Sweep front porch (Completed: True)\n",
      "2: Code Python (Completed: False)\n"
     ]
    },
    {
     "name": "stdin",
     "output_type": "stream",
     "text": [
      "\n",
      "====================\n",
      "1. List the tasks\n",
      "2. Add a task\n",
      "3. Remove a task\n",
      "4. Mark task complete\n",
      "5. Quit\n",
      "\n",
      "What would you like to do?  4\n"
     ]
    },
    {
     "name": "stdout",
     "output_type": "stream",
     "text": [
      "0: Write email to Jan (Completed: True)\n",
      "1: Sweep front porch (Completed: True)\n",
      "2: Code Python (Completed: False)\n"
     ]
    },
    {
     "name": "stdin",
     "output_type": "stream",
     "text": [
      "Please enter the number of the task completed: 2\n",
      "\n",
      "====================\n",
      "1. List the tasks\n",
      "2. Add a task\n",
      "3. Remove a task\n",
      "4. Mark task complete\n",
      "5. Quit\n",
      "\n",
      "What would you like to do?  1\n"
     ]
    },
    {
     "name": "stdout",
     "output_type": "stream",
     "text": [
      "0: Write email to Jan (Completed: True)\n",
      "1: Sweep front porch (Completed: True)\n",
      "2: Code Python (Completed: True)\n"
     ]
    },
    {
     "name": "stdin",
     "output_type": "stream",
     "text": [
      "\n",
      "====================\n",
      "1. List the tasks\n",
      "2. Add a task\n",
      "3. Remove a task\n",
      "4. Mark task complete\n",
      "5. Quit\n",
      "\n",
      "What would you like to do?  5\n"
     ]
    }
   ],
   "source": [
    "##Kai Bartlette\n",
    "##Python Final\n",
    "##My comments follow the ##.\n",
    "\n",
    "##The variable tasks has three dictionaries comprised of two key-value pairs, one that sets a 'name' key to the string\n",
    "##that states what the task is and a 'completed' key boolean set to True or False.\n",
    "\n",
    "tasks = [\n",
    "    {'name' : 'Write email to Jan', 'completed' : True},\n",
    "    {'name' : 'Sweep front porch', 'completed' : True},\n",
    "    {'name' : 'Call mom', 'completed' : False}\n",
    "]\n",
    "\n",
    "\n",
    "##This defines a function named 'list_tasks' and says, for the index number of 'tasks', \n",
    "##set a symbolic name bound to the unique, constant value of the index using enumerate\n",
    "##and then print the index, the value of the task 'name' key followed by the string\n",
    "##'Completed' and then the Boolean value of whether the task is completed.\n",
    "\n",
    "def list_tasks():\n",
    "    for index, task in enumerate(tasks):\n",
    "        print(str.format('{}: {} (Completed: {})', index, task['name'], task['completed']))\n",
    "\n",
    "##This defines a function named 'add_task' that adds or appends a new task entered into the 'input' line,\n",
    "##to the tasks array as a new dictionary (passes the argument of the task description into the variable\n",
    "##task_text and sets the 'completed' key to a Boolean value of false.\n",
    "\n",
    "def add_task():\n",
    "    task_text = input('Please add a task: ')\n",
    "    new_task = {'name' : task_text, 'completed': False}\n",
    "    tasks.append(new_task)\n",
    "    \n",
    "##This defines a function named 'remove_task' that first calls the 'list_tasks' function to display\n",
    "##the remaining tasks from the 'tasks' array, then it displays a prompt to enter the number of the\n",
    "##task we want to remove, and assigns that integer to the 'remove_task' variable. It then uses the \n",
    "##.remove method on the tasks array and makes use of the 'remove_task' variable to determine what \n",
    "##index we are referencing and need to remove.\n",
    "\n",
    "def remove_task():\n",
    "    list_tasks()\n",
    "    remove_task = int(input('Please enter the number of the task to be removed.'))\n",
    "    tasks.remove(tasks[remove_task])\n",
    "\n",
    "##This defines a function named 'mark_task_complete' that first calls the 'list_tasks' function to display\n",
    "##the remaining tasks from the 'tasks' array, then it displays a prompt to enter the number of the task\n",
    "##we want to mark complete, and assigns that integer to the 'mark_task' variable. It then references the\n",
    "##index of the task and sets the 'completed' value to True.\n",
    "\n",
    "def mark_task_complete():\n",
    "    list_tasks()\n",
    "    mark_task = int(input('Please enter the number of the task completed:'))\n",
    "    tasks[mark_task]['completed'] = True\n",
    "    \n",
    "##This assigns a formatted string to the 'menu_text' variable.\n",
    "\n",
    "menu_text = \"\"\"\n",
    "====================\n",
    "1. List the tasks\n",
    "2. Add a task\n",
    "3. Remove a task\n",
    "4. Mark task complete\n",
    "5. Quit\n",
    "\n",
    "What would you like to do? \"\"\"\n",
    "\n",
    "##This sets a variable 'program_is_running' to true.\n",
    "\n",
    "program_is_running = True\n",
    "\n",
    "##While 'program_is_running' is true, request input from the user defined in the 'menu_text' variable, and assign the input\n",
    "##as an integer choice to the variable 'decision', then compare the integer to see which of the above functions should run,\n",
    "##list_tasks, add_task, remove_task, mark_task_complete, or quit to end the program, with any other choice resulting in the \n",
    "##prompt to choose a valid option.\n",
    "\n",
    "while program_is_running:\n",
    "    decision = input(menu_text)\n",
    "    if decision == '1':\n",
    "        list_tasks()\n",
    "    elif decision == '2':\n",
    "        add_task()\n",
    "    elif decision == '3':\n",
    "        remove_task()\n",
    "    elif decision == '4':\n",
    "        mark_task_complete()\n",
    "    elif decision == '5':\n",
    "        program_is_running = False\n",
    "    else:\n",
    "        print('Please choose a valid option.')\n",
    "\n",
    "\n"
   ]
  },
  {
   "cell_type": "code",
   "execution_count": null,
   "id": "61b395a5-603c-47db-9d2c-6c0670cad1a0",
   "metadata": {},
   "outputs": [],
   "source": []
  }
 ],
 "metadata": {
  "kernelspec": {
   "display_name": "Python 3 (ipykernel)",
   "language": "python",
   "name": "python3"
  },
  "language_info": {
   "codemirror_mode": {
    "name": "ipython",
    "version": 3
   },
   "file_extension": ".py",
   "mimetype": "text/x-python",
   "name": "python",
   "nbconvert_exporter": "python",
   "pygments_lexer": "ipython3",
   "version": "3.10.4"
  }
 },
 "nbformat": 4,
 "nbformat_minor": 5
}
